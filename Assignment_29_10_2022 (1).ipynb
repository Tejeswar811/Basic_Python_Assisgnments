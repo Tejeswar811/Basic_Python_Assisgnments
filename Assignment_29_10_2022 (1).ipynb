{
 "cells": [
  {
   "cell_type": "code",
   "execution_count": null,
   "metadata": {
    "id": "2Hafh8DbghmP"
   },
   "outputs": [],
   "source": [
    "#6. write a function which will be able to read all the mails  \n",
    "#7 . write a function which will be able to send a mail to anyone \n",
    "#8. write a function which will be able to read a doc/word file from your system \n",
    "\n",
    "  you are suppose to complete this by oct 30th before your \n",
    "  live class and you have to send a solution at mail id - query@ineuron.ai\n",
    "  submit your git link to mail "
   ]
  },
  {
   "cell_type": "code",
   "execution_count": 5,
   "metadata": {
    "id": "XJHMASzOg8q4"
   },
   "outputs": [],
   "source": [
    "#   1. write a function which will try to find out len of a string without using an inbuilt len function \n",
    "def length(x):\n",
    "    count=0\n",
    "    for ele in x:\n",
    "        count+=1\n",
    "    return count"
   ]
  },
  {
   "cell_type": "code",
   "execution_count": 6,
   "metadata": {
    "colab": {
     "base_uri": "https://localhost:8080/"
    },
    "id": "zOPztLiohk7D",
    "outputId": "7ac4b1b0-dc86-4f64-f7b8-965057834bbd"
   },
   "outputs": [
    {
     "data": {
      "text/plain": [
       "3"
      ]
     },
     "execution_count": 6,
     "metadata": {},
     "output_type": "execute_result"
    }
   ],
   "source": [
    "x=[1,2,3]\n",
    "length(x)"
   ]
  },
  {
   "cell_type": "code",
   "execution_count": 7,
   "metadata": {
    "colab": {
     "base_uri": "https://localhost:8080/"
    },
    "id": "aqoirqaGhplH",
    "outputId": "4385e795-fa4f-4265-e0f6-a215014598a8"
   },
   "outputs": [
    {
     "data": {
      "text/plain": [
       "4"
      ]
     },
     "execution_count": 7,
     "metadata": {},
     "output_type": "execute_result"
    }
   ],
   "source": [
    "x=[\"a\",\"d\",\"e\",'f']\n",
    "length(x)"
   ]
  },
  {
   "cell_type": "code",
   "execution_count": 10,
   "metadata": {
    "id": "W-fiNN3gh5A7"
   },
   "outputs": [],
   "source": [
    "# 2. write a function which  will be able to print an index of list element without using an index function\n",
    "def index_of_list_elements(x):\n",
    "      for i in range(0,len(x)):\n",
    "        print(f'element:{x[i]} index:{i}')"
   ]
  },
  {
   "cell_type": "code",
   "execution_count": 11,
   "metadata": {
    "colab": {
     "base_uri": "https://localhost:8080/"
    },
    "id": "zL3hn8nQiuCu",
    "outputId": "73e08469-067d-46a0-e5d5-a1f7c95a559e"
   },
   "outputs": [
    {
     "name": "stdout",
     "output_type": "stream",
     "text": [
      "element:a index:0\n",
      "element:d index:1\n",
      "element:e index:2\n",
      "element:f index:3\n"
     ]
    }
   ],
   "source": [
    "x=[\"a\",\"d\",\"e\",'f']\n",
    "index_of_list_elements(x)"
   ]
  },
  {
   "cell_type": "code",
   "execution_count": null,
   "metadata": {
    "id": "6biTIDOOi0r_"
   },
   "outputs": [],
   "source": [
    "# 3. write a function which will be able to print an ip address of your system"
   ]
  },
  {
   "cell_type": "code",
   "execution_count": 2,
   "metadata": {
    "id": "gYwP8zzalkcm"
   },
   "outputs": [],
   "source": [
    "def ip_address():  \n",
    "    import socket\n",
    "    hostname = socket.gethostname()\n",
    "    ip_address = socket.gethostbyname(hostname)\n",
    "    print(f\"IP Address: {ip_address}\")"
   ]
  },
  {
   "cell_type": "code",
   "execution_count": 3,
   "metadata": {
    "colab": {
     "base_uri": "https://localhost:8080/"
    },
    "id": "qmCvrN94reJd",
    "outputId": "433ada5a-85be-4215-c0ea-6a5953a23f8c"
   },
   "outputs": [
    {
     "name": "stdout",
     "output_type": "stream",
     "text": [
      "IP Address: 192.168.1.6\n"
     ]
    }
   ],
   "source": [
    "ip_address()"
   ]
  },
  {
   "cell_type": "code",
   "execution_count": null,
   "metadata": {
    "id": "_C3jAt9smsoK"
   },
   "outputs": [],
   "source": [
    "#  4. write a function which will shutdown your system\n",
    "def shutdown_my_pc():\n",
    "    import os \n",
    "    os.system(\"shutdown /s /t 1\")"
   ]
  },
  {
   "cell_type": "code",
   "execution_count": null,
   "metadata": {
    "id": "qDLV4TmAsOJT"
   },
   "outputs": [],
   "source": [
    "shutdown_my_pc()"
   ]
  },
  {
   "cell_type": "code",
   "execution_count": 16,
   "metadata": {
    "id": "UoxMtrvBpZKE"
   },
   "outputs": [],
   "source": [
    "# 5. write a function which will take input as a list with any kind of numeric value and give an out as a multiplication of all the numeric data \n",
    "# l = [3.5, 6.56, 4,5,\"sudh\" , \"ineuron\" , 'fsda bootcamp 2.0']\n",
    "def mul(x):\n",
    "    m=1\n",
    "    for ele in x:\n",
    "        if type(ele)==int or type(ele)==float:\n",
    "            m=m*ele\n",
    "    print(m)"
   ]
  },
  {
   "cell_type": "code",
   "execution_count": 17,
   "metadata": {
    "colab": {
     "base_uri": "https://localhost:8080/"
    },
    "id": "pt2iPxZmqK6E",
    "outputId": "440bfcac-a61f-44db-8284-1786fb4a81e5"
   },
   "outputs": [
    {
     "name": "stdout",
     "output_type": "stream",
     "text": [
      "459.19999999999993\n"
     ]
    }
   ],
   "source": [
    "l = [3.5, 6.56, 4,5,\"sudh\" , \"ineuron\" , 'fsda bootcamp 2.0']\n",
    "mul(l)"
   ]
  }
 ],
 "metadata": {
  "colab": {
   "provenance": []
  },
  "kernelspec": {
   "display_name": "Python 3 (ipykernel)",
   "language": "python",
   "name": "python3"
  },
  "language_info": {
   "codemirror_mode": {
    "name": "ipython",
    "version": 3
   },
   "file_extension": ".py",
   "mimetype": "text/x-python",
   "name": "python",
   "nbconvert_exporter": "python",
   "pygments_lexer": "ipython3",
   "version": "3.9.13"
  }
 },
 "nbformat": 4,
 "nbformat_minor": 1
}
